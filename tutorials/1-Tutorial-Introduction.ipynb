{
 "cells": [
  {
   "cell_type": "markdown",
   "id": "abroad-distance",
   "metadata": {},
   "source": [
    "# BRAINWORKS - Data Exploration Tutorial\n",
    "[Mohammad M. Ghassemi](https://ghassemi.xyz), DATA Scholar, 2021\n",
    "\n",
    "\n",
    "## About\n",
    "This notebook provides a gentle overview of the code utilities that power the BRAINWORKS data collection engine. In this tutorial, we will cover how to use the tools to query and analyze data froe the PubMed API via the [Entrez Programming Utilities](https://www.ncbi.nlm.nih.gov/books/NBK25501/). \n",
    "\n",
    "<hr>"
   ]
  },
  {
   "cell_type": "markdown",
   "id": "corresponding-kazakhstan",
   "metadata": {},
   "source": [
    "## 0. Install Dependencies:\n",
    "To begin, please import the following external and internal python libraries"
   ]
  },
  {
   "cell_type": "code",
   "execution_count": 1,
   "id": "broad-classroom",
   "metadata": {},
   "outputs": [
    {
     "name": "stderr",
     "output_type": "stream",
     "text": [
      "Your CPU supports instructions that this binary was not compiled to use: AVX2\n",
      "For maximum performance, you can install NMSLIB from sources \n",
      "pip install --no-binary :all: nmslib\n"
     ]
    }
   ],
   "source": [
    "# External Libraries\n",
    "from   pprint import pprint\n",
    "import importlib\n",
    "import json\n",
    "import datetime\n",
    "import time\n",
    "import glob\n",
    "\n",
    "import os\n",
    "import sys\n",
    "currentdir = os.getcwd()\n",
    "parentdir  = os.path.dirname(currentdir)\n",
    "sys.path.insert(0, parentdir)\n",
    "\n",
    "# Inernal Libraries\n",
    "from configuration.config import config\n",
    "from utils.documentCollector.pubmed import pubmed"
   ]
  },
  {
   "cell_type": "markdown",
   "id": "retained-mitchell",
   "metadata": {},
   "source": [
    "<br><br>\n",
    "## 1. Obtain an NCBI Key\n",
    "This tool assumes access to the [NCBI Entrez Programming Utilities](https://www.ncbi.nlm.nih.gov/books/NBK25497/). To ensure proper functionality, please:\n",
    "1. [Register](https://www.ncbi.nlm.nih.gov/account/) for an NCBI account.\n",
    "2. navigate to the **settings** page by clicking your *username* in the top-right corner. \n",
    "3. Under the **API Key Management** section click *Create an API Key*\n",
    "4. Copy the resulting key into the configuration variable in `/configuration.config.py`:\n"
   ]
  },
  {
   "cell_type": "markdown",
   "id": "promotional-throw",
   "metadata": {},
   "source": [
    "<br><br>\n",
    "## 2. Searching for Papers"
   ]
  },
  {
   "cell_type": "markdown",
   "id": "orange-american",
   "metadata": {},
   "source": [
    "Before downloading any papers, we may first want to search the Pubmed archve for paper with properties of interest. For instance, we may like to pull the document identifiers of all pubmed papers (`'db':'pubmed'`) containing the term brain (`{'term':'brain'}` that were published on January 15, 2020 (`'date':'2020/01/15'`). To do this, we would specify the following qury paramter object:"
   ]
  },
  {
   "cell_type": "code",
   "execution_count": 14,
   "id": "divine-chicago",
   "metadata": {},
   "outputs": [],
   "source": [
    "# Specification of query paramters to do a pubmed central id search\n",
    "query_params = {'db'       : 'pubmed',         # Database: 'pubmed', 'pmc', 'nlmcatalog'     \n",
    "                'term'     : 'brain',          # Search term, e.g. 'brain', use None to get all records on a specific date.\n",
    "                'date'     : '2020/01/15',     # The date that you want to pull papers from                                  \n",
    "                }"
   ]
  },
  {
   "cell_type": "markdown",
   "id": "surprised-graphic",
   "metadata": {},
   "source": [
    "#  \n",
    "With these paramters specified, we can call the `pubmed` function of the `documnetCollector` object to fetch the document ids that satisfy our search query paramters; more specificly, we can perform a document search (`action = search`), and store our results in `/data/test`. We can ask the tool to overwrite results if they already exist (`replace_existing = True`), and to display the specific GET request used to obtain the result (`show_query = True`); you can click that hyperlink to see the specific results that are generated."
   ]
  },
  {
   "cell_type": "code",
   "execution_count": 16,
   "id": "packed-arkansas",
   "metadata": {},
   "outputs": [
    {
     "name": "stdout",
     "output_type": "stream",
     "text": [
      "See Results Here:\n",
      " https://eutils.ncbi.nlm.nih.gov/entrez/eutils/esearch.fcgi?db=pubmed&term=brain+AND+2020/01/15[pdat]&api_key=26000c321e5d45fa14e115f859303a77e808&retmode=xml&retstart=0&retmax=10000& \n",
      "\n"
     ]
    },
    {
     "data": {
      "text/plain": [
       "{'status': 'download',\n",
       " 'location': '../data/brain/2020/01/15/search/json/db-pubmed_term-brain_date-20200115_retmode-xml_retstart-0_retmax-10000.json'}"
      ]
     },
     "execution_count": 16,
     "metadata": {},
     "output_type": "execute_result"
    }
   ],
   "source": [
    "# Execution of an id search\n",
    "pm = pubmed()\n",
    "pm.collect(action           = 'search',        # The action we want to perform: `search` or `fetch`\n",
    "           write_location   = '../data/brain/',# The location we want to store the result\n",
    "           query_params     = query_params,    # The query parameters\n",
    "           replace_existing = True,            # `True` replace existing result, `False` do not replace existing results\n",
    "           show_query       = True)            # `True` show the API call, `False` dont' show the API call."
   ]
  },
  {
   "cell_type": "markdown",
   "id": "academic-malpractice",
   "metadata": {},
   "source": [
    "Clicking the hyperlink above, we can navigate through the `<xml>` to obtain the `<Id>` of the papers that meet our search criteria. The first item in the list is `6782223`"
   ]
  },
  {
   "cell_type": "markdown",
   "id": "processed-blink",
   "metadata": {},
   "source": [
    "<br><br>\n",
    "\n",
    "## 3. Fetching a few specific papers\n",
    "Now that we have the document ids of some papers that satisfied our search critiera, our next step might be to fetch the full text of these papers and store them for later analysis. We can fetch papers from pubmed by specifying a list of ids (`'id' : ['4534530', '33324907', '33062166']`) - these are what was returned from our search results!"
   ]
  },
  {
   "cell_type": "code",
   "execution_count": 17,
   "id": "documentary-grace",
   "metadata": {},
   "outputs": [],
   "source": [
    "# Specificication of query paramaters to collect a single document.\n",
    "query_params = {'db'      : 'pubmed',                                # Database: 'pubmed', 'pmc', 'nlmcatalog'  \n",
    "                'id'      : ['4534530', '33324907', '33062166'],     # ids of the papers\n",
    "                }"
   ]
  },
  {
   "cell_type": "markdown",
   "id": "subtle-heather",
   "metadata": {},
   "source": [
    "<br>As before, we can pass this query to the `pubmed` function, this time selecting a `fetch` action. "
   ]
  },
  {
   "cell_type": "code",
   "execution_count": 18,
   "id": "union-officer",
   "metadata": {},
   "outputs": [
    {
     "name": "stdout",
     "output_type": "stream",
     "text": [
      "See Results Here:\n",
      " https://eutils.ncbi.nlm.nih.gov/entrez/eutils/efetch.fcgi?db=pubmed&id=4534530,33324907,33062166&api_key=26000c321e5d45fa14e115f859303a77e808&retmode=xml& \n",
      "\n"
     ]
    },
    {
     "data": {
      "text/plain": [
       "{'status': 'download',\n",
       " 'location': ['../data/brain/1974/01/01/fetch/json/db-pubmed_id-4534530_retmode-xml.json',\n",
       "  '../data/brain/2020/01/01/fetch/json/db-pubmed_id-33324907_retmode-xml.json',\n",
       "  '../data/brain/2020/10/08/fetch/json/db-pubmed_id-33062166_retmode-xml.json']}"
      ]
     },
     "execution_count": 18,
     "metadata": {},
     "output_type": "execute_result"
    }
   ],
   "source": [
    "# Collecting a Single Document\n",
    "c = pubmed()\n",
    "c.collect(action           = 'fetch',                # The action you want to perform: `search`, or `fetch`\n",
    "          write_location   = '../data/brain',           # Where you want to write the results of your collection\n",
    "          query_params     = query_params,           # your query paramters\n",
    "          replace_existing = True,                   # Replaces file if replace_existing == True\n",
    "          show_query       = True)                   # Displays the API call used to fetch the result"
   ]
  },
  {
   "cell_type": "markdown",
   "id": "reserved-stocks",
   "metadata": {},
   "source": [
    "<br><br>\n",
    "## 4. Bulk Downloading Data"
   ]
  },
  {
   "cell_type": "markdown",
   "id": "organized-infrastructure",
   "metadata": {},
   "source": [
    "The two functionalities may be used together to collect the set of all documents that were published within a time range; as shown below:"
   ]
  },
  {
   "cell_type": "code",
   "execution_count": 20,
   "id": "german-bacteria",
   "metadata": {},
   "outputs": [
    {
     "name": "stdout",
     "output_type": "stream",
     "text": [
      "------------------------------------------------\n",
      "Starting Bulk Paper Collection\n",
      "------------------------------------------------\n"
     ]
    }
   ],
   "source": [
    "# Setting the pubmed Bulk Collector Paramters\n",
    "parameters = {'start_date'       : '2005/01/03',       # The start-date that you would like to collect papers against \n",
    "              'end_date'         : '2005/01/05',       # The end-date that you would like to collect papers against        \n",
    "              'database'         : 'pubmed',           # The database you want to search, e.g. PubMed\n",
    "              'search_term'      : 'brain',            # Search term, e.g. 'brain', use None to get *all records* in a date range.\n",
    "              'save_directory'   : '../data/brain/',   # The root directory that you will save the results to.\n",
    "              'replace_existing' : False               # `True`: download and replace existing files, `False`: only download if the file doesn't exist.\n",
    "             }\n",
    "\n",
    "# Starting the Collector\n",
    "pm = pubmed()\n",
    "pm.bulkCollect(parameters=parameters)"
   ]
  },
  {
   "cell_type": "markdown",
   "id": "considered-reynolds",
   "metadata": {},
   "source": [
    "**PLEASE NOTE**: If you are interested in keeping your record collection up-to-date on a daily basis without making multiple API calls, you can use the National Library of Medicine's [daily pubmed article dump](https://www.nlm.nih.gov/databases/download/pubmed_medline.html)."
   ]
  },
  {
   "cell_type": "markdown",
   "id": "typical-license",
   "metadata": {},
   "source": [
    "<br><br>\n",
    "## 5. Proccessing the File\n",
    "After the Pubmed data has been downloaded, we can prcess the file, ingesting it into the database. To start, let's pull the file."
   ]
  },
  {
   "cell_type": "code",
   "execution_count": 2,
   "id": "preliminary-bronze",
   "metadata": {},
   "outputs": [
    {
     "name": "stdout",
     "output_type": "stream",
     "text": [
      ".... Identified 94 papers.\n",
      "['../data/brain/2020/10/08/fetch/json/db-pubmed_id-33062166_retmode-xml.json', '../data/brain/2020/01/01/fetch/json/db-pubmed_id-33324907_retmode-xml.json', '../data/brain/2005/03/04/fetch/json/db-pubmed_id-15632190_retmode-xml.json', '../data/brain/2005/03/18/fetch/json/db-pubmed_id-15632154_retmode-xml.json', '../data/brain/2005/03/11/fetch/json/db-pubmed_id-15632127_retmode-xml.json', '../data/brain/2005/03/11/fetch/json/db-pubmed_id-15632119_retmode-xml.json', '../data/brain/2005/03/11/fetch/json/db-pubmed_id-15632147_retmode-xml.json', '../data/brain/2005/03/11/fetch/json/db-pubmed_id-15632143_retmode-xml.json', '../data/brain/2005/03/11/fetch/json/db-pubmed_id-15632188_retmode-xml.json'] ...\n"
     ]
    }
   ],
   "source": [
    "# Collecting a list of stored documents in a the root directory `brain/`\n",
    "pm = pubmed()\n",
    "pm.getStoredDocumentList(data_path = config['data_directory'] + 'brain/')\n",
    "print(pm.document_list[1:10], '...')"
   ]
  },
  {
   "cell_type": "markdown",
   "id": "daf3ba24-19cf-475b-ac6a-7bf119513763",
   "metadata": {},
   "source": [
    "<br> Generate the tables needed to store the Pubmed Data"
   ]
  },
  {
   "cell_type": "code",
   "execution_count": null,
   "id": "31d2edab-697b-4b81-8bdd-f56a52ae2545",
   "metadata": {},
   "outputs": [],
   "source": [
    "pm.generateTables()      # Generate the required tables for the Pubmed Data"
   ]
  },
  {
   "cell_type": "markdown",
   "id": "9b6f1ead-993f-4f89-af15-bb72a2ced731",
   "metadata": {},
   "source": [
    "<br>\n",
    "We can now import these record into the database "
   ]
  },
  {
   "cell_type": "code",
   "execution_count": 4,
   "id": "reflected-anxiety",
   "metadata": {},
   "outputs": [
    {
     "name": "stdout",
     "output_type": "stream",
     "text": [
      "....purging logs\n",
      "batch complete 0\n"
     ]
    },
    {
     "name": "stderr",
     "output_type": "stream",
     "text": [
      "tail: logs/brain-log/processed.log: No such file or directory\n"
     ]
    },
    {
     "name": "stdout",
     "output_type": "stream",
     "text": [
      "Completing Final Batch\n"
     ]
    }
   ],
   "source": [
    "# Processing the papers in the root directory, and storing processing log in the `fish-log` folder\n",
    "pm.processPapers(paper_list          = pm.document_list,  # A list of .json pubmed papers on th disk \n",
    "                 log_folder          = 'brain-log',       # The log folder\n",
    "                 showtime            = False,             # `True`: show the amount of time it takes to insert the records into the database.\n",
    "                 db_insert           = False,             # `True`: insert the processed papers into the database; `False`: process papers, but don't insert rsults into the database.\n",
    "                 purge_logs          = True,              # `True`: we will purge the logs that keep track of the paper processing; `False`: keep the logs, we will pick up processing from where we left off in the list.\n",
    "                 prevent_duplication = False              # `True`: we will skip any pmids that are already in the `documents` table.\n",
    "                )"
   ]
  },
  {
   "cell_type": "markdown",
   "id": "cross-toilet",
   "metadata": {},
   "source": [
    "<br>\n",
    "\n",
    "### 6. Query the Database\n",
    "The `database` utility provides a helper function `getTableInfo()` that returns the properties of each table's columns (data type, size, comment, and keys) in the database; the returned object is a python `dictionary`, with one entry for each table name. We may, for instance, access more information on the `affiliations` table as follows:"
   ]
  },
  {
   "cell_type": "code",
   "execution_count": 5,
   "id": "aware-defensive",
   "metadata": {},
   "outputs": [],
   "source": [
    "from utils.database.database import database   # import the utility\n",
    "db = database()   "
   ]
  },
  {
   "cell_type": "code",
   "execution_count": 6,
   "id": "0dcf2889-9b7a-48a3-b097-3a881b3df385",
   "metadata": {},
   "outputs": [
    {
     "name": "stdout",
     "output_type": "stream",
     "text": [
      "{'affiliation': {'column_key': '',\n",
      "                 'column_length': 65535,\n",
      "                 'comment': 'The full affiliation string provided by PubMed.',\n",
      "                 'data_type': 'text'},\n",
      " 'affiliation_num': {'column_key': 'PRI',\n",
      "                     'column_length': None,\n",
      "                     'comment': '',\n",
      "                     'data_type': 'bigint'},\n",
      " 'country': {'column_key': '',\n",
      "             'column_length': 250,\n",
      "             'comment': 'The inferred country of the author.',\n",
      "             'data_type': 'varchar'},\n",
      " 'department': {'column_key': '',\n",
      "                'column_length': 250,\n",
      "                'comment': 'The inferred department of the author.',\n",
      "                'data_type': 'varchar'},\n",
      " 'email': {'column_key': '',\n",
      "           'column_length': 250,\n",
      "           'comment': 'The inferred email address of the author.',\n",
      "           'data_type': 'varchar'},\n",
      " 'first_name': {'column_key': '',\n",
      "                'column_length': 100,\n",
      "                'comment': 'The first name of the author.',\n",
      "                'data_type': 'varchar'},\n",
      " 'grid_id': {'column_key': 'MUL',\n",
      "             'column_length': 14,\n",
      "             'comment': 'The inferred grid_id.',\n",
      "             'data_type': 'varchar'},\n",
      " 'institution': {'column_key': '',\n",
      "                 'column_length': 250,\n",
      "                 'comment': 'The inferred institution of the author.',\n",
      "                 'data_type': 'varchar'},\n",
      " 'last_name': {'column_key': 'MUL',\n",
      "               'column_length': 100,\n",
      "               'comment': 'The last name of the author.',\n",
      "               'data_type': 'varchar'},\n",
      " 'location': {'column_key': '',\n",
      "              'column_length': 250,\n",
      "              'comment': 'The inferred location of the author.',\n",
      "              'data_type': 'varchar'},\n",
      " 'middle_name': {'column_key': '',\n",
      "                 'column_length': 100,\n",
      "                 'comment': 'The midle name of the author.',\n",
      "                 'data_type': 'varchar'},\n",
      " 'orcid_id': {'column_key': '',\n",
      "              'column_length': 50,\n",
      "              'comment': 'The inferred ORCID id.',\n",
      "              'data_type': 'varchar'},\n",
      " 'pmid': {'column_key': 'MUL',\n",
      "          'column_length': None,\n",
      "          'comment': 'The PubMed identification number.',\n",
      "          'data_type': 'int'},\n",
      " 'pub_date': {'column_key': 'MUL',\n",
      "              'column_length': None,\n",
      "              'comment': 'The full date on which the issue of the journal was '\n",
      "                         'published.',\n",
      "              'data_type': 'date'}}\n"
     ]
    }
   ],
   "source": [
    "table_info = db.getTableInfo() \n",
    "pprint(table_info.get('affiliations'))"
   ]
  },
  {
   "cell_type": "markdown",
   "id": "banner-migration",
   "metadata": {},
   "source": [
    "<br>\n",
    "\n",
    "The database object also has a static `id_map` variable that indicates which columns can be used to join tables. We can access the columns that join the `publications` table, for instance, by calling:"
   ]
  },
  {
   "cell_type": "code",
   "execution_count": 7,
   "id": "alleged-determination",
   "metadata": {},
   "outputs": [
    {
     "name": "stdout",
     "output_type": "stream",
     "text": [
      "{'citations': ['citations.pmid', 'affiliations.pmid'],\n",
      " 'documents': ['documents.pmid', 'affiliations.pmid'],\n",
      " 'grants': ['grants.pmid', 'affiliations.pmid'],\n",
      " 'id_map': ['id_map.pmid', 'affiliations.pmid'],\n",
      " 'link_tables': ['link_tables.pmid', 'affiliations.pmid'],\n",
      " 'publications': ['publications.pmid', 'affiliations.pmid'],\n",
      " 'qualifiers': ['qualifiers.pmid', 'affiliations.pmid'],\n",
      " 'topics': ['topics.pmid', 'affiliations.pmid']}\n"
     ]
    }
   ],
   "source": [
    "pprint(db.id_map.get('affiliations'))"
   ]
  },
  {
   "cell_type": "markdown",
   "id": "moved-mobile",
   "metadata": {},
   "source": [
    "<br>\n",
    "\n",
    "The output above shows the set of the tables that can be joined with `affiliations` (`publications`, `citations` ... `topics`), and what columns specfically must be used to perform the join. To join information from the `publications` and `grants` tables for instance, we would use the `pmid` column in each table. Let's run a simple query on the database to demonstrate"
   ]
  },
  {
   "cell_type": "code",
   "execution_count": 8,
   "id": "ba4f5cfd-fa2b-4021-9afe-55bd32275131",
   "metadata": {},
   "outputs": [
    {
     "data": {
      "text/plain": [
       "[{'pmid': 15632119,\n",
       "  'pub_date': datetime.date(2005, 3, 11),\n",
       "  'pub_title': 'Polymorphisms in human organic anion-transporting polypeptide 1A2 (OATP1A2): implications for altered drug disposition and central nervous system drug entry.',\n",
       "  'country': 'United States',\n",
       "  'issn': '0021-9258',\n",
       "  'journal_issue': '10',\n",
       "  'journal_title': 'The Journal of biological chemistry',\n",
       "  'journal_title_abbr': 'J Biol Chem',\n",
       "  'journal_volume': 280,\n",
       "  'lang': 'eng',\n",
       "  'page_number': '9610-7',\n",
       "  'content': 'Organic anion-transporting polypeptide 1A2 (OATP1A2) is a drug uptake transporter known for broad substrate specificity, including many drugs in clinical use. Therefore, genetic variation in SLCO1A2 may have important implications to the disposition and tissue penetration of substrate drugs. In the present study, we demonstrate OATP1A2 protein expression in human brain capillary and renal distal nephron using immunohistochemistry. We also determined the extent of single nucleotide polymorphisms in SLCO1A2 upon analyses of ethnically defined genomic DNA samples (n = 95 each for African-, Chinese-, European-, and Hispanic-Americans). We identified six nonsynonymous polymorphisms within the coding region of SLCO1A2 (T38C (I13T), A516C (E172D), G559A (A187T), A382T (N128Y), A404T (N135I), and C2003G (T668S)), the allelic frequencies of which appeared to be ethnicity-dependent. In vitro functional assessment revealed that the A516C and A404T variants had markedly reduced capacity for mediating the cellular uptake of OATP1A2 substrates, estrone 3-sulfate and two delta-opioid receptor agonists, deltorphin II, and [D-penicillamine(2,5)]-enkephalin. On the other hand, the G559A and C2003G variants appeared to have substrate-dependent changes in transport activity. Cell surface biotinylation and immunofluorescence confocal microscopy suggested that altered plasma membrane expression of the transporter may contribute to reduced transport activity associated with the A516C, A404T, and C2003G variants. The A404T (N135I) variant also showed a shift in the apparent molecular size, indicative of alterations in glycosylation status. Taken together, these data suggest that SLCO1A2 polymorphisms may be an important yet unrecognized contributor to inter-individual variability in drug disposition and central nervous system entry of substrate drugs.'}]"
      ]
     },
     "execution_count": 8,
     "metadata": {},
     "output_type": "execute_result"
    }
   ],
   "source": [
    "db.query(\"\"\"SELECT publications.*, \n",
    "                   documents.content \n",
    "              FROM publications \n",
    "              LEFT JOIN documents ON documents.pmid = publications.pmid\n",
    "             WHERE publications.pmid = 15632119\n",
    "               AND documents.content_type = 'abstract'\n",
    "          \"\"\")"
   ]
  },
  {
   "cell_type": "markdown",
   "id": "careful-boards",
   "metadata": {},
   "source": [
    "<br><br>\n",
    "## Appendix\n",
    "\n",
    "#### A.1. Joining all the data\n",
    "Here is an example query that JOINS every table in the database (note that this assumes you've imported grant data as well - see part 2 for that)"
   ]
  },
  {
   "cell_type": "code",
   "execution_count": 12,
   "id": "closing-stylus",
   "metadata": {},
   "outputs": [
    {
     "name": "stdout",
     "output_type": "stream",
     "text": [
      "[{'abstract_text': '  [unreadable] Description (provided by applicant): ALS is '\n",
      "                   'a devastating disease causing progressive motor neuron '\n",
      "                   'degeneration and death. Most ALS patients develop severe '\n",
      "                   'respiratory insufficiency and, ultimately, die from '\n",
      "                   'ventilatory failure. Despite its fundamental mportance, '\n",
      "                   'respiratory function has seldom been studied in any ALS '\n",
      "                   'model. In this revised application, we focus attention on '\n",
      "                   'respiratory motor function in a rodent model of familial '\n",
      "                   'ALS, the transgenic rat overexpressing mutated superoxide '\n",
      "                   'dismutase-1 (SOD1G93A rat). The fundamental hypothesis '\n",
      "                   'guiding this proposal is that compensatory spinal '\n",
      "                   'neuroplasticity offsets severe motor neuron degeneration, '\n",
      "                   'preserving the ability to breathe until late in disease '\n",
      "                   'progression. We propose to investigate mechanisms of '\n",
      "                   'compensatory spinal plasticity in SOD1G93A rats, and to '\n",
      "                   'determine if further plasticity can be induced with '\n",
      "                   'ghronic treatments that enhance respiratory plasticity, '\n",
      "                   'such as intermittent exposures to low oxygen (hypoxia). We '\n",
      "                   'also propose to investigate the contributions of key '\n",
      "                   'trophic factors postulated to play key roles in '\n",
      "                   'respiratory plasticity or ALS pathogenesis: brain derived '\n",
      "                   'neurotrophic factor (BDNF) and vascular endothelial growth '\n",
      "                   'factor (VEGF). To achieve our primary goal, four specific '\n",
      "                   'hypotheses will be tested: 1) SOD1G93A rats utilize '\n",
      "                   'compensatory spinal neuroplasticity to preserve '\n",
      "                   'ventilatory function despite severe inspiratory motor '\n",
      "                   'neuron cell death; 2) daily intermittent hypoxia enhances '\n",
      "                   'respiratory plasticity and actually delays disease '\n",
      "                   'progression; 3) serotonin-dependent BDNF regulation '\n",
      "                   'underlies compensatory respiratory plasticity during ALS; '\n",
      "                   'and 4) VEGF improves respiratory motor output and motor '\n",
      "                   'neuron survival. Our perspective is unique, focusing on '\n",
      "                   'compensatory mechanisms that offset progressive motor '\n",
      "                   'neuron degeneration, thereby preserving function in a '\n",
      "                   'critical, homeostatic motor system. The utilization of '\n",
      "                   'diverse and highly innovative experimental approaches '\n",
      "                   '(e.g., RNA interference in vivo; and transplantation of '\n",
      "                   'neural progenitor cells secreting trophic factors), the '\n",
      "                   'extensive experience of the laboratory with all aspects of '\n",
      "                   'this proposal, and exciting preliminary data increase the '\n",
      "                   'likelihood that the proposed experiments will '\n",
      "                   'significantly advance our understanding of ALS. '\n",
      "                   'Collectively, these aims will provide unique insights '\n",
      "                   'concerning the progression of familial ALS (and other '\n",
      "                   'forms by inference), and may provide the rationale for '\n",
      "                   'novel therapeutic strategies for a neurodegenerative '\n",
      "                   'disease with no known cure.   [unreadable]     '\n",
      "                   '[unreadable] [unreadable] ',\n",
      "  'activity': 'P01',\n",
      "  'administering_ic': 'NS',\n",
      "  'affiliation': 'Department of Comparative Biosciences, University of '\n",
      "                 'Wisconsin, School of Veterinary Medicine, Madison, Wisconsin '\n",
      "                 '53706, USA.',\n",
      "  'affiliation_num': 14381195,\n",
      "  'application_id': 7300366,\n",
      "  'application_type': 1,\n",
      "  'arra_funded': None,\n",
      "  'author_list': 'Nichols, Nicole L; Dale, Erica A; Mitchell, Gordon S',\n",
      "  'author_name': 'Nichols, Nicole L',\n",
      "  'award_notice_date': '2007-08-14T00:00:00',\n",
      "  'budget_end': '03/31/2008',\n",
      "  'budget_start': '09/01/2007',\n",
      "  'cfda_code': '853',\n",
      "  'citation_date': datetime.date(2021, 5, 4),\n",
      "  'citation_num': 2550362,\n",
      "  'citedby': 29688171,\n",
      "  'class': 'minor',\n",
      "  'content': 'Acute intermittent hypoxia [AIH; 3, 5-min episodes; 35-45 mmHg '\n",
      "             'arterial PO(2) (Pa(O(2)))] elicits serotonin-dependent phrenic '\n",
      "             'long-term facilitation (pLTF), a form of phrenic motor '\n",
      "             'facilitation (pMF) initiated by G(q) protein-coupled '\n",
      "             'metabotropic 5-HT(2) receptors. An alternate pathway to pMF is '\n",
      "             'induced by G(s) protein-coupled metabotropic receptors, '\n",
      "             'including adenosine A(2A) receptors. AIH-induced pLTF is '\n",
      "             'dominated by the serotonin-dependent pathway and is actually '\n",
      "             'restrained via inhibition from the adenosine-dependent pathway. '\n",
      "             'Here, we hypothesized that severe AIH shifts pLTF from a '\n",
      "             'serotonin-dependent to an adenosine-dependent form of pMF. pLTF '\n",
      "             'induced by severe (25-30 mmHg Pa(O(2))) and moderate (45-55 mmHg '\n",
      "             'Pa(O(2))) AIH were compared in anesthetized rats, with and '\n",
      "             'without intrathecal (C4) spinal A(2A) (MSX-3, 130 ng/kg, 12 μl) '\n",
      "             'or 5-HT receptor antagonist (methysergide, 300 μg/kg, 15 μl) '\n",
      "             'injections. During severe, but not moderate AIH, progressive '\n",
      "             'augmentation of the phrenic response during hypoxic episodes was '\n",
      "             'observed. Severe AIH (78% ± 8% 90 min post-AIH, n = 6) elicited '\n",
      "             'greater pLTF vs. moderate AIH (41% ± 12%, n = 8; P < 0.05). '\n",
      "             'MSX-3 (28% ± 6%; n = 6; P < 0.05) attenuated pLTF following '\n",
      "             'severe AIH, but enhanced pLTF following moderate AIH (86% ± 26%; '\n",
      "             'n = 8; P < 0.05). Methysergide abolished pLTF after moderate AIH '\n",
      "             '(12% ± 5%; n = 6; P = 0.035), but had no effect after severe AIH '\n",
      "             '(66 ± 13%; n = 5; P > 0.05). Thus severe AIH shifts pLTF from a '\n",
      "             'serotonin-dependent to an adenosine-dependent mechanism; the '\n",
      "             'adenosinergic pathway inhibits the serotonergic pathway '\n",
      "             'following moderate AIH. Here we demonstrate a novel '\n",
      "             'adenosine-dependent pathway to pLTF following severe AIH. Shifts '\n",
      "             'in the mechanisms of respiratory plasticity provide the '\n",
      "             'ventilatory control system greater flexibility as challenges '\n",
      "             'that differ in severity are confronted.',\n",
      "  'core_project_num': 'P01NS057778',\n",
      "  'country': 'United States',\n",
      "  'description': 'drug effects',\n",
      "  'direct_cost_amt': None,\n",
      "  'document_id': 3270174,\n",
      "  'doi': '10.1152/japplphysiol.00060.2012',\n",
      "  'ed_inst_type': 'GRADUATE SCHOOLS',\n",
      "  'element_id': 3270174,\n",
      "  'element_order': 2,\n",
      "  'element_text': None,\n",
      "  'element_type': 'abstract',\n",
      "  'foa_number': None,\n",
      "  'full_project_num': '1P01NS057778-01A1',\n",
      "  'funding_ics': 'NINDS:1177171\\\\',\n",
      "  'funding_mechanism': None,\n",
      "  'fy': 2007,\n",
      "  'grant_id': 'T32-HL-007654',\n",
      "  'grant_num': 4919940,\n",
      "  'ic_name': 'NATIONAL INSTITUTE OF NEUROLOGICAL DISORDERS AND STROKE',\n",
      "  'indirect_cost_amt': None,\n",
      "  'issn': '1522-1601',\n",
      "  'issn_linking': '0161-7567',\n",
      "  'journal_issue': '10',\n",
      "  'journal_title': 'Journal of applied physiology (Bethesda, Md. : 1985)',\n",
      "  'journal_title_abbr': 'J Appl Physiol (1985)',\n",
      "  'journal_volume': 112,\n",
      "  'lang': 'eng',\n",
      "  'location': None,\n",
      "  'map_id': 1635077,\n",
      "  'nih_spending_cats': None,\n",
      "  'nlm_id': '8502536',\n",
      "  'org_city': 'MADISON',\n",
      "  'org_country': 'UNITED STATES',\n",
      "  'org_dept': 'PEDIATRICS',\n",
      "  'org_district': 2,\n",
      "  'org_duns': '161202122',\n",
      "  'org_fips': 'US',\n",
      "  'org_ipf_code': None,\n",
      "  'org_name': 'UNIVERSITY OF WISCONSIN MADISON',\n",
      "  'org_state': 'WI',\n",
      "  'org_zipcode': 537151218,\n",
      "  'page_number': '1678-88',\n",
      "  'patent_id': 8211631,\n",
      "  'patent_org_name': 'UNIVERSITY OF WISCONSIN-MADISON',\n",
      "  'patent_title': 'In vitro model of spinal muscular atrophy',\n",
      "  'phr': None,\n",
      "  'pi_ids': '6869365;',\n",
      "  'pi_names': 'SVENDSEN, CLIVE NIELS;',\n",
      "  'pmc_id': 'PMC3365407',\n",
      "  'pmid': 22403346,\n",
      "  'program_officer_name': 'REFOLO, LORENZO ',\n",
      "  'project_end': '03/31/2012',\n",
      "  'project_id': 'P01NS057778',\n",
      "  'project_number': 'P01NS057778',\n",
      "  'project_start': '09/01/2007',\n",
      "  'project_terms': None,\n",
      "  'project_title': 'Stem Cell Therapy and Growth Factor Therapy for ALS',\n",
      "  'pub_date': datetime.date(2012, 5, 2),\n",
      "  'pub_title': 'Severe acute intermittent hypoxia elicits phrenic long-term '\n",
      "               'facilitation by a novel adenosine-dependent mechanism.',\n",
      "  'pub_year': 2012,\n",
      "  'qualifier_id': 'Q000187',\n",
      "  'qualifier_num': 12536407,\n",
      "  'serial_number': 57778,\n",
      "  'source': 'RePORTER_PRJABS_C_FY2007',\n",
      "  'study_section': 'NSD',\n",
      "  'study_section_name': 'National Institute of Neurological Disorders and '\n",
      "                        'Stroke Initial Review Group',\n",
      "  'subproject_id': None,\n",
      "  'suffix': 'A1',\n",
      "  'support_year': 1,\n",
      "  'topic_id': 'D009473',\n",
      "  'topic_num': 29279207,\n",
      "  'total_cost': '1177171',\n",
      "  'total_cost_sub_project': None,\n",
      "  'version': 0,\n",
      "  'year': 2007}]\n"
     ]
    }
   ],
   "source": [
    "from   pprint import pprint\n",
    "all_data = db.query(\"\"\"SELECT *\n",
    "                        FROM  documents \n",
    "                        JOIN  elements       ON  elements.element_id        = documents.element_id\n",
    "                        JOIN  publications   ON  documents.pmid             = publications.pmid \n",
    "                        JOIN  grants         ON  documents.pmid             = grants.pmid\n",
    "                        JOIN  id_map         ON  documents.pmid             = id_map.pmid\n",
    "                        JOIN  topics         ON  documents.pmid             = topics.pmid\n",
    "                        JOIN  qualifiers     ON  topics.pmid                = qualifiers.pmid \n",
    "                                             AND topics.topic_id            = qualifiers.topic_id\n",
    "                        JOIN  affiliations   ON  documents.pmid             = affiliations.pmid\n",
    "                        JOIN  citations      ON  documents.pmid             = citations.pmid \n",
    "                        JOIN  link_tables    ON  documents.pmid             = link_tables.pmid\n",
    "                        JOIN  patents        ON  patents.project_id         = link_tables.project_number\n",
    "                        JOIN  projects       ON  link_tables.project_number = projects.core_project_num\n",
    "                        JOIN  abstracts      ON  projects.application_id    = abstracts.application_id\n",
    "                        WHERE   documents.element_type LIKE 'abstract'\n",
    "                          AND   topics.description     LIKE 'Neuronal Plasticity'\n",
    "                          AND   topics.class           LIKE 'major'\n",
    "                          AND   publications.pub_date  > '2012-1-1'\n",
    "                          AND   publications.pub_date  < '2012-12-31'\n",
    "                        LIMIT 1\n",
    "                        \"\"\")\n",
    "pprint(all_data)"
   ]
  },
  {
   "cell_type": "code",
   "execution_count": null,
   "id": "gross-advertising",
   "metadata": {},
   "outputs": [],
   "source": []
  }
 ],
 "metadata": {
  "kernelspec": {
   "display_name": "Python 3 (ipykernel)",
   "language": "python",
   "name": "python3"
  },
  "language_info": {
   "codemirror_mode": {
    "name": "ipython",
    "version": 3
   },
   "file_extension": ".py",
   "mimetype": "text/x-python",
   "name": "python",
   "nbconvert_exporter": "python",
   "pygments_lexer": "ipython3",
   "version": "3.7.3"
  }
 },
 "nbformat": 4,
 "nbformat_minor": 5
}
